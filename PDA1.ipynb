{
 "cells": [
  {
   "cell_type": "markdown",
   "id": "91a286b1",
   "metadata": {},
   "source": [
    "**ANDREW ID: nrebecca**"
   ]
  },
  {
   "cell_type": "markdown",
   "id": "103740fc",
   "metadata": {},
   "source": [
    "**Exercise 1:**\n",
    "(a) Write a program that takes two numbers as input from the user and prints their sum\n",
    "using f-string format.\n"
   ]
  },
  {
   "cell_type": "code",
   "execution_count": 9,
   "id": "268de92e",
   "metadata": {},
   "outputs": [
    {
     "name": "stdout",
     "output_type": "stream",
     "text": [
      "Enter the first number: 5\n",
      "Enter the first number: 6\n",
      "Sample input:  5 , 6\n",
      "Sample output:\t\n",
      " The sum is 11\n"
     ]
    }
   ],
   "source": [
    "# Prompt the user for the first number\n",
    "num1 = int(input(\"Enter the first number: \"))\n",
    "# Ask the user to enter the second number\n",
    "num2 = int(input(\"Enter the first number: \"))\n",
    "#Print the sample input from the user\n",
    "print(f\"Sample input: \", num1,\",\" ,num2)\n",
    "#Print the sum\n",
    "print(f\"Sample output:\" \"\\t\\n The sum is\", num1+num2)"
   ]
  },
  {
   "cell_type": "markdown",
   "id": "820df8b6",
   "metadata": {},
   "source": [
    "**Exercise 1:**\n",
    "\n",
    "(b) Enhance the previous program to also print the difference, product, and quotient of the\n",
    "two numbers."
   ]
  },
  {
   "cell_type": "code",
   "execution_count": 13,
   "id": "3fb58e1a",
   "metadata": {},
   "outputs": [
    {
     "name": "stdout",
     "output_type": "stream",
     "text": [
      "Enter the first number: 10\n",
      "Enter the first number: 2\n",
      "Sample input:  10 , 2\n",
      "Sample output: \n",
      "\t The sum is 12\n",
      "\t The difference is 8\n",
      "\t The product is 20\n",
      "\t The quotient is 5.0\n"
     ]
    }
   ],
   "source": [
    "# Prompt the user for the first and second number\n",
    "num1 = int(input(\"Enter the first number: \"))\n",
    "num2 = int(input(\"Enter the second number: \"))\n",
    "# Formulas for sum, difference, product and quotient\n",
    "sum = num1+num2\n",
    "difference = num1-num2\n",
    "product = num1*num2\n",
    "quotient = num1/num2\n",
    "# Print the sample input from the user\n",
    "print(f\"Sample input: \", num1,\",\" ,num2)\n",
    "#Print the sample output: Sum, difference, product and quotient from the above formulas\n",
    "print(f\"Sample output: \")\n",
    "print(f\"\\t The sum is\", sum)\n",
    "print(f\"\\t The difference is\", difference)\n",
    "print(f\"\\t The product is\", product)\n",
    "print(f\"\\t The quotient is\", quotient)"
   ]
  },
  {
   "cell_type": "markdown",
   "id": "5c7792b9",
   "metadata": {},
   "source": [
    "**Exercise 1:**\n",
    "\n",
    "(c) Modify the program to check if the sum of the two numbers is greater than 100. If it is,\n",
    "print \"Sum is greater than 100,\" otherwise print \"Sum is not greater than 100.\"\n"
   ]
  },
  {
   "cell_type": "code",
   "execution_count": 17,
   "id": "c300791c",
   "metadata": {},
   "outputs": [
    {
     "name": "stdout",
     "output_type": "stream",
     "text": [
      "Enter the first number: 90\n",
      "Enter the second number: 23\n",
      "Sample input:  90 , 23\n",
      "Sample output: \n",
      "\t The sum is 113\n",
      "Sum is greater than 100\n",
      "\t The difference is 67\n",
      "difference is not greater than 100\n",
      "\t The product is 2070\n",
      "product is greater than 100\n",
      "\t The quotient is 3\n",
      "quotient is not greater than 100\n"
     ]
    }
   ],
   "source": [
    "# Prompt the user for two inputs as numbers\n",
    "num1 = int(input(\"Enter the first number: \"))\n",
    "num2 = int(input(\"Enter the second number: \"))\n",
    "# Calculate the sum, difference, product and quotient\n",
    "sum = num1+num2\n",
    "difference = num1-num2\n",
    "product = num1*num2\n",
    "quotient = num1//num2\n",
    "#Print the sample input num1 and num2 as per user input\n",
    "print(f\"Sample input: \", num1,\",\" ,num2)\n",
    "print(f\"Sample output: \")\n",
    "# Print the sum of numbers\n",
    "print(f\"\\t The sum is\", sum)\n",
    "#Check if the sum is greater or less than 100 and print the message\n",
    "if sum>100:\n",
    "    print(\"Sum is greater than 100\")\n",
    "else:\n",
    "    print(\"Sum is not greater than 100\")\n",
    "\n",
    "# print the difference\n",
    "print(f\"\\t The difference is\", difference)\n",
    "# print the message according to the comparison of the value with 100\n",
    "if difference>100:\n",
    "    print(\"difference is greater than 100\")\n",
    "else:\n",
    "    print(\"difference is not greater than 100\")\n",
    "\n",
    "# print the product\n",
    "print(f\"\\t The product is\", product)\n",
    "# print the message according to the comparison of the value with 100\n",
    "if product>100:\n",
    "    print(\"product is greater than 100\")\n",
    "else:\n",
    "    print(\"product is not greater than 100\")\n",
    "\n",
    "# print the quotient\n",
    "print(f\"\\t The quotient is\", quotient)\n",
    "# print the message according to the comparison of the value with 100\n",
    "if quotient>100:\n",
    "    print(\"quotient is greater than 100\")\n",
    "else:\n",
    "    print(\"quotient is not greater than 100\")\n"
   ]
  },
  {
   "cell_type": "markdown",
   "id": "aaa3cb9f",
   "metadata": {},
   "source": [
    "**Exercise 2:**\n",
    "\n",
    "(a) Extend the program in exercise 1 to use a loop that repeatedly takes two numbers as\n",
    "input and performs the above operations (sum, difference, product, quotient) until the\n",
    "user decides to exit by entering a specific keyword, e.g., \"exit\" or \"quit\"."
   ]
  },
  {
   "cell_type": "code",
   "execution_count": 19,
   "id": "5193ba5c",
   "metadata": {},
   "outputs": [
    {
     "name": "stdout",
     "output_type": "stream",
     "text": [
      "Enter the first number: 7\n",
      "Enter the second number: 8\n",
      "Sum:  15\n",
      "Difference:  -1\n",
      "Product:  56\n",
      "Quotient:  0\n",
      "Enter the first number: quit\n",
      "Exit\n"
     ]
    }
   ],
   "source": [
    "# use a while loop to input numbers and perform operations\n",
    "while True:\n",
    "    # prompt the user for the first number\n",
    "    num1 = input(\"Enter the first number: \")\n",
    "    # use the if statement to exit the loop if the user types quit\n",
    "    if num1 == \"quit\":\n",
    "        print(\"Exit\")\n",
    "        break\n",
    "    # prompt the user for the second number\n",
    "    num2 = input(\"Enter the second number: \")\n",
    "    # use the if statement to exit the loop if the user types quit\n",
    "    if num2 == \"quit\":\n",
    "        print(\"Exit\")\n",
    "        break\n",
    "    # perform the operations for sum, differnce, product and quotient\n",
    "    sum = int(num1)+int(num2)\n",
    "    difference = int(num1)-int(num2)\n",
    "    product = int(num1)*int(num2)\n",
    "    quotient = int(num1)//int(num2)\n",
    "    # print the results\n",
    "    print(f\"Sum: \" , sum)\n",
    "    print(f\"Difference: \" , difference)\n",
    "    print(f\"Product: \" , product)\n",
    "    print(f\"Quotient: \" , quotient)\n",
    "    "
   ]
  },
  {
   "cell_type": "markdown",
   "id": "fdb812e2",
   "metadata": {},
   "source": [
    "**Exercise 2:**\n",
    "\n",
    "(b) Create a function called perform_arithmetic that takes two numbers as parameters\n",
    "and returns their sum, difference, product, and quotient as a tuple. Call this function\n",
    "within the loop from (a) to perform the calculations."
   ]
  },
  {
   "cell_type": "code",
   "execution_count": 7,
   "id": "d950cbd1",
   "metadata": {},
   "outputs": [
    {
     "data": {
      "text/plain": [
       "(13, 7, 30, 3)"
      ]
     },
     "execution_count": 7,
     "metadata": {},
     "output_type": "execute_result"
    }
   ],
   "source": [
    "# create a function to return the opertaions and take two numbers as input\n",
    "def perform_arithmetic(num1, num2):\n",
    "    # perform the operations\n",
    "    sum = num1+num2\n",
    "    difference = num1-num2\n",
    "    product = num1*num2\n",
    "    quotient = num1//num2\n",
    "    # return the function with outputs\n",
    "    return(sum, difference, product, quotient)"
   ]
  },
  {
   "cell_type": "code",
   "execution_count": 24,
   "id": "3aa35740",
   "metadata": {},
   "outputs": [
    {
     "name": "stdout",
     "output_type": "stream",
     "text": [
      "Enter the first number: 5\n",
      "Enter the second number: 6\n",
      "(11, -1, 30, 0)\n",
      "Enter the first number: quit\n",
      "Exit\n"
     ]
    }
   ],
   "source": [
    "# use a while loop to enter numbers and perform operations\n",
    "while True:\n",
    "    # enter the first number\n",
    "    num1 = input(\"Enter the first number: \")\n",
    "    # exit the loop if the user types quit\n",
    "    if num1 == \"quit\":\n",
    "        print(\"Exit\")\n",
    "        break\n",
    "    # enter the second number\n",
    "    num2 = input(\"Enter the second number: \")\n",
    "    # exit the loop if the user types quit\n",
    "    if num2 == \"quit\":\n",
    "        print(\"Exit\")\n",
    "        break\n",
    "    # print the output\n",
    "    print(perform_arithmetic(int(num1), int(num2)))\n",
    "    "
   ]
  },
  {
   "cell_type": "markdown",
   "id": "4f6d1adc",
   "metadata": {},
   "source": [
    "**Exercise 2:**\n",
    "\n",
    "(c) Create a function, odd_even that takes a number and returns ‘odd’ if the number is odd\n",
    "and ‘even’ if the number is even"
   ]
  },
  {
   "cell_type": "code",
   "execution_count": 31,
   "id": "ddbaeb44",
   "metadata": {},
   "outputs": [],
   "source": [
    "# create a function to check for an odd or even number\n",
    "def odd_even(num):\n",
    "    # if number id odd return odd and even for an even number\n",
    "    if (num%2) != 0:\n",
    "        cat= \"odd\"\n",
    "    else:\n",
    "        cat = \"Even\"\n",
    "    return cat"
   ]
  },
  {
   "cell_type": "markdown",
   "id": "479cd06f",
   "metadata": {},
   "source": [
    "**Exercise 3:**\n",
    "\n",
    "Combine the concepts of loops and the functions from Exercise 2 to repeatedly ask the user for\n",
    "a number, use the perform_arithmetic function to perform calculations, and then use the\n",
    "odd_even function to determine if the result is even or odd."
   ]
  },
  {
   "cell_type": "code",
   "execution_count": null,
   "id": "91c9590f",
   "metadata": {},
   "outputs": [
    {
     "name": "stdout",
     "output_type": "stream",
     "text": [
      "Enter the first number: 45\n",
      "Enter the second number: 9\n",
      "(54, 36, 405, 5.0)\n",
      "even\n",
      "even\n",
      "odd\n",
      "odd\n"
     ]
    }
   ],
   "source": [
    "# use a while loop to enter numbers and perform operations\n",
    "while True:\n",
    "    # enter the first number\n",
    "    num1 = input(\"Enter the first number: \")\n",
    "    # exit the loop if the user types quit\n",
    "    if num1 == \"quit\":\n",
    "        print(\"Exit\")\n",
    "        break\n",
    "    # enter the second number\n",
    "    num2 = input(\"Enter the second number: \")\n",
    "    # exit the loop if the user types quit\n",
    "    if num2 == \"quit\":\n",
    "        print(\"Exit\")\n",
    "        break\n",
    "    num1 = int(num1)\n",
    "    num2 = int(num2)\n",
    "    perf= perform_arithmetic(num1, num2)\n",
    "    print(perf)\n",
    "    # check if the output is odd or even using odd_even function\n",
    "    \n",
    "    print(odd_even(perf[0]))\n",
    "    print(odd_even(perf[1]))\n",
    "    print(odd_even(perf[2]))\n",
    "    print(odd_even(perf[3]))"
   ]
  },
  {
   "cell_type": "markdown",
   "id": "9334c0d2",
   "metadata": {},
   "source": [
    "**Exercise 4:**\n",
    "(a) Write a function calculate_average that returns the average of a sequence of\n",
    "numbers.\n"
   ]
  },
  {
   "cell_type": "code",
   "execution_count": 87,
   "id": "36af1281",
   "metadata": {},
   "outputs": [],
   "source": [
    "# import mean from statistics library\n",
    "from statistics import mean\n",
    "# define a function to calculate average\n",
    "def calculate_average(nums=[]):\n",
    "    avg = mean(nums)\n",
    "    # return the average\n",
    "    return avg"
   ]
  },
  {
   "cell_type": "markdown",
   "id": "71ec993e",
   "metadata": {},
   "source": [
    "**Exercise 4:**\n",
    "(b) You are a TA for Python for Data Analytics. After marking quiz 1, you are supposed to\n",
    "enter the scores (out of 100) for all students. Using interactive input, enter the scores of\n",
    "the students and print the average score. Assume there are 10 students who took the\n",
    "quiz. You can write your program such that when the user enters -1, it automatically\n",
    "prints the average quiz score. Use the function created in (a)\n",
    "Hint: Use a sentinel-controlled while loop"
   ]
  },
  {
   "cell_type": "code",
   "execution_count": 91,
   "id": "6500c8f1",
   "metadata": {},
   "outputs": [
    {
     "name": "stdout",
     "output_type": "stream",
     "text": [
      "Enter the score for student 2 (-1 to calculate average): 8\n",
      "Enter the score for student 3 (-1 to calculate average): 9\n",
      "Enter the score for student 4 (-1 to calculate average): -1\n"
     ]
    },
    {
     "data": {
      "text/plain": [
       "8.5"
      ]
     },
     "execution_count": 91,
     "metadata": {},
     "output_type": "execute_result"
    }
   ],
   "source": [
    "# create an empty list for total scores and initiate the number of students with 1\n",
    "total_score = []\n",
    "num_students = 1\n",
    "\n",
    "# use a while loop to keep the number up to 10\n",
    "while num_students<=10:\n",
    "    # prompt for the score of the student\n",
    "    score = input(\"Enter the score for student {} (-1 to calculate average): \".format(num_students + 1))\n",
    "    # break from the loop if the user types -1\n",
    "    if score == '-1':\n",
    "        break\n",
    "    # the score is an integer \n",
    "    score = int(score)\n",
    "    # if the score is within the range of 0 and 100 print the total score and append the number of students up to maximum \n",
    "    if 0 <= score <= 100:\n",
    "        total_score.append(score)\n",
    "        num_students += 1\n",
    "        # prompt for a score within the range if the user did not do so\n",
    "    else:\n",
    "        print(\"Invalid score. Please enter a score between 0 and 100.\")\n",
    "calculate_average(total_score)"
   ]
  },
  {
   "cell_type": "markdown",
   "id": "11444ee2",
   "metadata": {},
   "source": [
    "**Exercise 5:**\n",
    "Modify the program in 4 such that the user enters the andrewID of the student and his/her mark.\n",
    "Your program should print a dictionary where the keys are the andrewIDs and the values are the\n",
    "marks.\n"
   ]
  },
  {
   "cell_type": "code",
   "execution_count": 98,
   "id": "b32e7b13",
   "metadata": {},
   "outputs": [
    {
     "name": "stdout",
     "output_type": "stream",
     "text": [
      "Enter the andrew_id for student: jk\n",
      "Enter the score for student: 78\n",
      "Enter the andrew_id for student: hj\n",
      "Enter the score for student: 67\n",
      "Enter the andrew_id for student: nj\n",
      "Enter the score for student: -1\n",
      "{'jk': 78, 'hj': 67}\n"
     ]
    }
   ],
   "source": [
    "# initiate the number of students to 1\n",
    "num_students = 1\n",
    "# create an empty set\n",
    "stds = {}\n",
    "\n",
    "# use a while loop to keep the number to a maximum of 10\n",
    "while num_students<=10:\n",
    "    # prompt for the andrew id and score of the student\n",
    "    andrew_id = input(\"Enter the andrew_id for student: \")\n",
    "    score = int(input(\"Enter the score for student: \"))\n",
    "    # break from the loop if the user types -1\n",
    "    if score == -1:\n",
    "        break\n",
    "    # print the andrew id and score if the score is within the range else prompt for a number in the range\n",
    "    if score<100:\n",
    "        stds[andrew_id] = score\n",
    "    else:\n",
    "        print(\"Invalid score. Please enter a score between 0 and 100.\")\n",
    "    num_students+=1\n",
    "# print the output\n",
    "print(stds)"
   ]
  },
  {
   "cell_type": "markdown",
   "id": "027f77b0",
   "metadata": {},
   "source": [
    "**Exercise 6:**\n",
    "Modify the program in Ex 5 to print well-formatted results of how many students got A, B, C and\n",
    "D. Assume Grade A (90 - 100), Grade B (80-89), Grade C (70-79), Grade D (60-69), and Grade\n",
    "F(<60)."
   ]
  },
  {
   "cell_type": "code",
   "execution_count": 51,
   "id": "2b85d9ea",
   "metadata": {},
   "outputs": [
    {
     "name": "stdout",
     "output_type": "stream",
     "text": [
      "Andrew ID for student: reb\n",
      "Score for student: 98\n",
      "Andrew ID for student: des\n",
      "Score for student: 67\n",
      "Andrew ID for student: gty\n",
      "Score for student: 78\n",
      "Andrew ID for student: wes\n",
      "Score for student: 23\n",
      "Andrew ID for student: fgh\n",
      "Score for student: 56\n",
      "Andrew ID for student: frt\n",
      "Score for student: -1\n",
      "Grade          Number of Students\n",
      "A               1\n",
      "B               0\n",
      "C               1\n",
      "D               1\n",
      "F               2\n"
     ]
    }
   ],
   "source": [
    "# initiate the number of students to 1 and grade counts from 0 for each grade\n",
    "num_students = 1\n",
    "grade_counts = {'A': 0, 'B': 0, 'C': 0, 'D': 0, 'F': 0}\n",
    "\n",
    "while num_students <= 10:\n",
    "    # prompt for the andrew id and score\n",
    "    andrew_id = input(\"Andrew ID for student: \")\n",
    "    score = int(input(\"Score for student: \"))\n",
    "\n",
    "    # break from the loop if the types score is -1    \n",
    "    if score == -1:\n",
    "        break\n",
    "    # use an if loop to give an A if the score is(90-100)\n",
    "    if 0 <= score <= 100:\n",
    "        if 90 <= score <= 100:\n",
    "            grade = 'A'\n",
    "        # B if the score is(80-90)\n",
    "        elif 80 <= score < 90:\n",
    "            grade = 'B'\n",
    "        # C if the score is(70-80)\n",
    "        elif 70 <= score < 80:\n",
    "            grade = 'C'\n",
    "        # D if the score is (60-70)\n",
    "        elif 60 <= score < 70:\n",
    "            grade = 'D'\n",
    "        # an F for every score below 60\n",
    "        else:\n",
    "            grade = 'F'\n",
    "        \n",
    "        grade_counts[grade] += 1\n",
    "    # print a message for invalid score if it is not between 0 and 100\n",
    "    else:\n",
    "        print(\"Invalid score. Please enter a score between 0 and 100.\")\n",
    "    \n",
    "    num_students += 1\n",
    "# print the output\n",
    "print(\"Grade          Number of Students\")\n",
    "for grade, count in grade_counts.items():\n",
    "    print(\"{:<5}          {:>2}\".format(grade, count))\n"
   ]
  },
  {
   "cell_type": "markdown",
   "id": "e87f32b8",
   "metadata": {},
   "source": [
    "**Exercise 7 :**\n",
    "\n",
    "Assume you have been promoted to a department coordinator where your role is to get insights\n",
    "into a student's score across a number of courses. Write a function to generate a report of the\n",
    "average marks of students across 5 courses.\n",
    "Input: A list of lists where there will be 5 lists within the larger list. The 5 lists represent the five\n",
    "courses (Course 0, Course 1, Course 2 etc). Each list will have 10 numbers which represent\n",
    "the marks of 10 students in a course"
   ]
  },
  {
   "cell_type": "code",
   "execution_count": 5,
   "id": "9ce2cff2",
   "metadata": {},
   "outputs": [
    {
     "name": "stdout",
     "output_type": "stream",
     "text": [
      "Course  Average marks\n",
      "Course 0 73\n",
      "Course 1 72\n",
      "Course 2 77\n",
      "Course 3 68\n",
      "Course 4 68\n"
     ]
    }
   ],
   "source": [
    "# create a function for calculating average\n",
    "def generate_report(course_marks):\n",
    "    # print the output format\n",
    "    print(\"Course  Average marks\")\n",
    "    # use a for loop to calculate the average and print the result\n",
    "    for i, course in enumerate(course_marks):\n",
    "        avg = sum(course)/len(course)\n",
    "        print(f\"Course {i} {int(avg)}\")\n",
    "# sample course marks to work with\n",
    "course_marks = [\n",
    "    [79, 76, 87, 58, 75, 65, 68, 68, 66, 93], \n",
    "    [68, 51, 87, 78, 54, 85, 86, 85, 76, 50], \n",
    "    [88, 100, 75, 87, 52, 77, 65, 97, 80, 51], \n",
    "    [82, 51, 50, 97, 52, 70, 73, 86, 70, 53], \n",
    "    [51, 84, 65, 87, 71, 53, 68, 77, 50,80]\n",
    "]\n",
    "# generate the report\n",
    "generate_report(course_marks)"
   ]
  },
  {
   "cell_type": "markdown",
   "id": "20238fe1",
   "metadata": {},
   "source": [
    "**Exercise 8 (Bonus Question):**\n",
    "\n",
    "Write a Python program to create a number-guessing game where the user must guess a\n",
    "randomly generated number within a range between 0 and 20. The program should provide\n",
    "hints to the user if their guess is too high or too low. Additionally, the program should keep track\n",
    "of the number of attempts made by the user and display the result along with the number of\n",
    "attempts taken to guess the correct number."
   ]
  },
  {
   "cell_type": "code",
   "execution_count": 23,
   "id": "0c3aa652",
   "metadata": {},
   "outputs": [
    {
     "name": "stdout",
     "output_type": "stream",
     "text": [
      "Welcome to the number guessing game!!\n",
      "Guess the number between 0 and 20. You have {10} attempts\n",
      "Enter your guess: 4\n",
      "The number is too low. Try again!!\n",
      "Enter your guess: 5\n",
      "The number is too low. Try again!!\n",
      "Enter your guess: 23\n",
      "The number is too high. Try again!!\n",
      "Enter your guess: 67\n",
      "The number is too high. Try again!!\n",
      "Enter your guess: 5\n",
      "The number is too low. Try again!!\n",
      "Enter your guess: 4\n",
      "The number is too low. Try again!!\n",
      "Enter your guess: 12\n",
      "The number is too low. Try again!!\n",
      "Enter your guess: 14\n",
      "The number is too low. Try again!!\n",
      "Enter your guess: 16\n",
      "The number is too low. Try again!!\n",
      "Enter your guess: 17\n",
      "Congratulations. Your guess is correct\n"
     ]
    },
    {
     "ename": "KeyboardInterrupt",
     "evalue": "Interrupted by user",
     "output_type": "error",
     "traceback": [
      "\u001b[1;31m---------------------------------------------------------------------------\u001b[0m",
      "\u001b[1;31mKeyboardInterrupt\u001b[0m                         Traceback (most recent call last)",
      "Cell \u001b[1;32mIn[23], line 31\u001b[0m\n\u001b[0;32m     29\u001b[0m     \u001b[38;5;28;01mif\u001b[39;00m attempt \u001b[38;5;241m==\u001b[39m maximum_attempts \u001b[38;5;129;01mand\u001b[39;00m guess \u001b[38;5;241m!=\u001b[39m secret_num:\n\u001b[0;32m     30\u001b[0m         \u001b[38;5;28mprint\u001b[39m(\u001b[38;5;124m\"\u001b[39m\u001b[38;5;124mSorry you\u001b[39m\u001b[38;5;124m'\u001b[39m\u001b[38;5;124mve reached the maximum number of attempts.\u001b[39m\u001b[38;5;124m\"\u001b[39m)\n\u001b[1;32m---> 31\u001b[0m guess_number()\n",
      "Cell \u001b[1;32mIn[23], line 16\u001b[0m, in \u001b[0;36mguess_number\u001b[1;34m()\u001b[0m\n\u001b[0;32m     13\u001b[0m \u001b[38;5;66;03m# use a while loop\u001b[39;00m\n\u001b[0;32m     14\u001b[0m \u001b[38;5;28;01mwhile\u001b[39;00m attempt \u001b[38;5;241m<\u001b[39m maximum_attempts:\n\u001b[0;32m     15\u001b[0m     \u001b[38;5;66;03m# prompt the user for a guess\u001b[39;00m\n\u001b[1;32m---> 16\u001b[0m     guess \u001b[38;5;241m=\u001b[39m \u001b[38;5;28mint\u001b[39m(\u001b[38;5;28minput\u001b[39m(\u001b[38;5;124m\"\u001b[39m\u001b[38;5;124mEnter your guess: \u001b[39m\u001b[38;5;124m\"\u001b[39m))\n\u001b[0;32m     17\u001b[0m     \u001b[38;5;66;03m# increment the attempts to its maximum\u001b[39;00m\n\u001b[0;32m     18\u001b[0m     attempt \u001b[38;5;241m=\u001b[39m\u001b[38;5;241m+\u001b[39m\u001b[38;5;241m1\u001b[39m\n",
      "File \u001b[1;32m~\\anaconda3\\Lib\\site-packages\\ipykernel\\kernelbase.py:1175\u001b[0m, in \u001b[0;36mKernel.raw_input\u001b[1;34m(self, prompt)\u001b[0m\n\u001b[0;32m   1171\u001b[0m \u001b[38;5;28;01mif\u001b[39;00m \u001b[38;5;129;01mnot\u001b[39;00m \u001b[38;5;28mself\u001b[39m\u001b[38;5;241m.\u001b[39m_allow_stdin:\n\u001b[0;32m   1172\u001b[0m     \u001b[38;5;28;01mraise\u001b[39;00m StdinNotImplementedError(\n\u001b[0;32m   1173\u001b[0m         \u001b[38;5;124m\"\u001b[39m\u001b[38;5;124mraw_input was called, but this frontend does not support input requests.\u001b[39m\u001b[38;5;124m\"\u001b[39m\n\u001b[0;32m   1174\u001b[0m     )\n\u001b[1;32m-> 1175\u001b[0m \u001b[38;5;28;01mreturn\u001b[39;00m \u001b[38;5;28mself\u001b[39m\u001b[38;5;241m.\u001b[39m_input_request(\n\u001b[0;32m   1176\u001b[0m     \u001b[38;5;28mstr\u001b[39m(prompt),\n\u001b[0;32m   1177\u001b[0m     \u001b[38;5;28mself\u001b[39m\u001b[38;5;241m.\u001b[39m_parent_ident[\u001b[38;5;124m\"\u001b[39m\u001b[38;5;124mshell\u001b[39m\u001b[38;5;124m\"\u001b[39m],\n\u001b[0;32m   1178\u001b[0m     \u001b[38;5;28mself\u001b[39m\u001b[38;5;241m.\u001b[39mget_parent(\u001b[38;5;124m\"\u001b[39m\u001b[38;5;124mshell\u001b[39m\u001b[38;5;124m\"\u001b[39m),\n\u001b[0;32m   1179\u001b[0m     password\u001b[38;5;241m=\u001b[39m\u001b[38;5;28;01mFalse\u001b[39;00m,\n\u001b[0;32m   1180\u001b[0m )\n",
      "File \u001b[1;32m~\\anaconda3\\Lib\\site-packages\\ipykernel\\kernelbase.py:1217\u001b[0m, in \u001b[0;36mKernel._input_request\u001b[1;34m(self, prompt, ident, parent, password)\u001b[0m\n\u001b[0;32m   1214\u001b[0m             \u001b[38;5;28;01mbreak\u001b[39;00m\n\u001b[0;32m   1215\u001b[0m \u001b[38;5;28;01mexcept\u001b[39;00m \u001b[38;5;167;01mKeyboardInterrupt\u001b[39;00m:\n\u001b[0;32m   1216\u001b[0m     \u001b[38;5;66;03m# re-raise KeyboardInterrupt, to truncate traceback\u001b[39;00m\n\u001b[1;32m-> 1217\u001b[0m     \u001b[38;5;28;01mraise\u001b[39;00m \u001b[38;5;167;01mKeyboardInterrupt\u001b[39;00m(\u001b[38;5;124m\"\u001b[39m\u001b[38;5;124mInterrupted by user\u001b[39m\u001b[38;5;124m\"\u001b[39m) \u001b[38;5;28;01mfrom\u001b[39;00m \u001b[38;5;28;01mNone\u001b[39;00m\n\u001b[0;32m   1218\u001b[0m \u001b[38;5;28;01mexcept\u001b[39;00m \u001b[38;5;167;01mException\u001b[39;00m:\n\u001b[0;32m   1219\u001b[0m     \u001b[38;5;28mself\u001b[39m\u001b[38;5;241m.\u001b[39mlog\u001b[38;5;241m.\u001b[39mwarning(\u001b[38;5;124m\"\u001b[39m\u001b[38;5;124mInvalid Message:\u001b[39m\u001b[38;5;124m\"\u001b[39m, exc_info\u001b[38;5;241m=\u001b[39m\u001b[38;5;28;01mTrue\u001b[39;00m)\n",
      "\u001b[1;31mKeyboardInterrupt\u001b[0m: Interrupted by user"
     ]
    }
   ],
   "source": [
    "# import the random library to generate a random number\n",
    "import random\n",
    "# create a function for guessing the number\n",
    "def guess_number():\n",
    "    # the secret number is between 0 and 20\n",
    "    secret_num = random.randint(0, 20)\n",
    "    # begin from attempt o with a maximum of 10 attempts\n",
    "    attempt = 0\n",
    "    maximum_attempts = 10\n",
    "    # print a welcome message and rules for the game\n",
    "    print(\"Welcome to the number guessing game!!\")\n",
    "    print(\"Guess the number between 0 and 20. You have\", {maximum_attempts}, \"attempts\")\n",
    "    # use a while loop\n",
    "    while attempt < maximum_attempts:\n",
    "        # prompt the user for a guess\n",
    "        guess = int(input(\"Enter your guess: \"))\n",
    "        # increment the attempts to its maximum\n",
    "        attempt =+1\n",
    "        # print a message if the number is below 0\n",
    "        if guess < secret_num:\n",
    "            print(\"The number is too low. Try again!!\")\n",
    "        # print a message to try again if the number is above 20\n",
    "        elif guess>secret_num:\n",
    "            print(\"The number is too high. Try again!!\")\n",
    "        # print the congratulations message if the guess is right\n",
    "        else:\n",
    "            print(\"Congratulations. Your guess is correct\")\n",
    "    # print the message if the user reached the maximum attempts without the right guess\n",
    "    if attempt == maximum_attempts and guess != secret_num:\n",
    "        print(\"Sorry you've reached the maximum number of attempts.\")\n",
    "guess_number()"
   ]
  },
  {
   "cell_type": "markdown",
   "id": "1f7aa1c9",
   "metadata": {},
   "source": [
    "### "
   ]
  }
 ],
 "metadata": {
  "kernelspec": {
   "display_name": "Python 3 (ipykernel)",
   "language": "python",
   "name": "python3"
  },
  "language_info": {
   "codemirror_mode": {
    "name": "ipython",
    "version": 3
   },
   "file_extension": ".py",
   "mimetype": "text/x-python",
   "name": "python",
   "nbconvert_exporter": "python",
   "pygments_lexer": "ipython3",
   "version": "3.11.5"
  }
 },
 "nbformat": 4,
 "nbformat_minor": 5
}
